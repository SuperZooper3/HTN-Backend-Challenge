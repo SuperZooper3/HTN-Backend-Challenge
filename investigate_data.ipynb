{
 "cells": [
  {
   "cell_type": "code",
   "execution_count": 1,
   "metadata": {},
   "outputs": [],
   "source": [
    "# A quick notebook to investigate the json data\n",
    "import json\n",
    "\n",
    "with open(\"HTN_2023_BE_Challenge_Data.json\",\"r\") as f:\n",
    "    data = json.load(f)\n",
    "\n",
    "# print(data)"
   ]
  },
  {
   "cell_type": "code",
   "execution_count": 2,
   "metadata": {},
   "outputs": [
    {
     "name": "stdout",
     "output_type": "stream",
     "text": [
      "{'name': 26, 'company': 35, 'email': 30, 'phone': 22}\n"
     ]
    }
   ],
   "source": [
    "# Get the maximum sizes of all the fields\n",
    "\n",
    "fields = [\"name\",\"company\",\"email\",\"phone\"]\n",
    "max_sizes = {field:0 for field in fields}\n",
    "\n",
    "for person in data:\n",
    "    for field in fields:\n",
    "        max_sizes[field] = max(max_sizes[field],len(person[field]))\n",
    "\n",
    "print(max_sizes)"
   ]
  }
 ],
 "metadata": {
  "kernelspec": {
   "display_name": "Python 3",
   "language": "python",
   "name": "python3"
  },
  "language_info": {
   "codemirror_mode": {
    "name": "ipython",
    "version": 3
   },
   "file_extension": ".py",
   "mimetype": "text/x-python",
   "name": "python",
   "nbconvert_exporter": "python",
   "pygments_lexer": "ipython3",
   "version": "3.10.11"
  }
 },
 "nbformat": 4,
 "nbformat_minor": 2
}
